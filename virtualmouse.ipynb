{
 "cells": [
  {
   "cell_type": "code",
   "execution_count": 15,
   "id": "6dbc81f6-eee6-444c-a06c-a3d5bf404eca",
   "metadata": {},
   "outputs": [],
   "source": [
    "import cv2\n",
    "import mediapipe as mp\n",
    "import pyautogui\n",
    "import util\n",
    "from pynput.mouse import Button, Controller\n",
    "mouse = Controller()\n",
    "import random"
   ]
  },
  {
   "cell_type": "code",
   "execution_count": 16,
   "id": "9c281407-6152-4778-89b3-e617e86740c4",
   "metadata": {},
   "outputs": [],
   "source": [
    "screen_width, screen_height = pyautogui.size()\n",
    "mouse = Controller()\n",
    "mpHands = mp.solutions.hands\n",
    "hands = mpHands.Hands(\n",
    "    static_image_mode=False,\n",
    "    model_complexity=1,\n",
    "    min_detection_confidence=0.7,\n",
    "    min_tracking_confidence=0.7,\n",
    "    max_num_hands=1\n",
    " )"
   ]
  },
  {
   "cell_type": "code",
   "execution_count": 17,
   "id": "bd6d8c1e-42d3-4200-942e-3030476cb985",
   "metadata": {},
   "outputs": [],
   "source": [
    "def find_finger_tip(processed):\n",
    "    if processed.multi_hand_landmarks:\n",
    "        hand_landmarks = processed.multi_hand_landmarks[0]\n",
    "        return hand_landmarks.landmark[mpHands.HandLandmark.INDEX_FINGER_TIP]\n",
    "\n",
    "    return None"
   ]
  },
  {
   "cell_type": "code",
   "execution_count": 18,
   "id": "e4453dcd-c3ba-4a4a-b72b-e4ce7bd2fedb",
   "metadata": {},
   "outputs": [],
   "source": [
    "def detect_gestures(frame, landmarks_list, processed):\n",
    "    if len(landmarks_list) >= 21:\n",
    "        index_finger_tip = find_finger_tip(processed)\n",
    "        thumb_index_dist = util.get_distance([landmarks_list[4], landmarks_list[5]])\n",
    "        \n",
    "        if util.get_distance([landmarks_list[4], landmarks_list[5]]) < 50 and \\\n",
    "           util.get_angle(landmarks_list[5], landmarks_list[6], landmarks_list[8]) > 90:\n",
    "            move_mouse(index_finger_tip)\n",
    "\n",
    "        # LEFT CLICK\n",
    "        elif is_left_click(landmarks_list, thumb_index_dist):\n",
    "            mouse.press(Button.left)\n",
    "            mouse.release(Button.left)\n",
    "            cv2.putText(frame, \"Left Click\", (50, 50), \n",
    "                        cv2.FONT_HERSHEY_SIMPLEX, 1, (0, 255, 0), 2)\n",
    "\n",
    "        # RIGHT CLICK\n",
    "        elif is_right_click(landmarks_list, thumb_index_dist):\n",
    "            mouse.press(Button.right)\n",
    "            mouse.release(Button.right)\n",
    "            cv2.putText(frame, \"Right Click\", (50, 50), \n",
    "                        cv2.FONT_HERSHEY_SIMPLEX, 1, (0, 0, 255), 2)\n",
    "\n",
    "        # DOUBLE CLICK\n",
    "        elif is_double_click(landmarks_list, thumb_index_dist):\n",
    "            pyautogui.doubleClick()\n",
    "            cv2.putText(frame, \"Double Click\", (50, 50), \n",
    "                        cv2.FONT_HERSHEY_SIMPLEX, 1, (255, 255, 0), 2)\n",
    "\n",
    "        # SCREENSHOT\n",
    "        elif is_screenshot(landmarks_list, thumb_index_dist):\n",
    "            im1 = pyautogui.screenshot()\n",
    "            label = random.randint(1, 1000)\n",
    "            im1.save(f'my_screenshot_{label}.png')\n",
    "            cv2.putText(frame, \"Screenshot Taken\", (50, 50), \n",
    "                        cv2.FONT_HERSHEY_SIMPLEX, 1, (255, 255, 0), 2)"
   ]
  },
  {
   "cell_type": "code",
   "execution_count": 19,
   "id": "ad2a4134-f40e-4fac-bd9d-86d03f4a905e",
   "metadata": {},
   "outputs": [],
   "source": [
    "def move_mouse(index_finger_tip):\n",
    "    if index_finger_tip is not None:\n",
    "        x = int(index_finger_tip.x * screen_width)\n",
    "        y = int(index_finger_tip.y * screen_height)\n",
    "        pyautogui.moveTo(x, y)"
   ]
  },
  {
   "cell_type": "code",
   "execution_count": 20,
   "id": "b9981050-b65a-4a10-b7d7-a1bbdb8efa34",
   "metadata": {},
   "outputs": [],
   "source": [
    "def is_left_click(landmarks_list, thumb_index_dist):\n",
    "    return (util.get_angle(landmarks_list[5], landmarks_list[6],landmarks_list[8]) < 50 and #index bend\n",
    "            util.get_angle(landmarks_list[9], landmarks_list[10],landmarks_list[12]) > 90 and #middle straight\n",
    "            thumb_index_dist > 50 \n",
    "    )\n",
    "#RIGHT CLICK\n",
    "def is_right_click(landmarks_list, thumb_index_dist):\n",
    "    return (util.get_angle(landmarks_list[9], landmarks_list[10], landmarks_list[12]) < 50 and #middle bend\n",
    "            util.get_angle(landmarks_list[5], landmarks_list[6], landmarks_list[8]) > 90  and #index straight\n",
    "            thumb_index_dist > 50 #thumb straight\n",
    "    )\n",
    "#DOUBLE CLICK\n",
    "def is_double_click(landmarks_list, thumb_index_dist):\n",
    "    return (\n",
    "            util.get_angle(landmarks_list[5], landmarks_list[6], landmarks_list[8]) < 50 and #index close\n",
    "            util.get_angle(landmarks_list[9], landmarks_list[10], landmarks_list[12]) < 50 and #middle close\n",
    "            thumb_index_dist > 50 #thumb open\n",
    "    )\n",
    "#SCREENSHOT\n",
    "def is_screenshot(landmarks_list, thumb_index_dist): # all fingers are closed\n",
    "    return (util.get_angle(landmarks_list[5], landmarks_list[6], landmarks_list[8]) < 50 and\n",
    "            util.get_angle(landmarks_list[9], landmarks_list[10], landmarks_list[12]) < 50 and\n",
    "            thumb_index_dist < 50\n",
    "    )"
   ]
  },
  {
   "cell_type": "code",
   "execution_count": null,
   "id": "ea74db15-5430-4467-80fd-44b714660862",
   "metadata": {},
   "outputs": [],
   "source": [
    "def main():\n",
    "    cap = cv2.VideoCapture(0)\n",
    "    draw = mp.solutions.drawing_utils\n",
    "    try:\n",
    "        while cap.isOpened():\n",
    "            ret, frame = cap.read()\n",
    "            if not ret:\n",
    "                break\n",
    "            frame = cv2.flip(frame,1)\n",
    "            frameRGB = cv2.cvtColor(frame, cv2.COLOR_BGR2RGB)\n",
    "            processed = hands.process(frameRGB)\n",
    "            landmarks_list = []\n",
    "            if processed.multi_hand_landmarks:\n",
    "                hand_landmarks = processed.multi_hand_landmarks[0]\n",
    "                draw.draw_landmarks(frame, hand_landmarks, \n",
    "mpHands.HAND_CONNECTIONS)\n",
    "                for lm in hand_landmarks.landmark:\n",
    "                    landmarks_list.append((lm.x, lm.y))\n",
    "            detect_gestures(frame, landmarks_list, processed)\n",
    "            cv2.imshow('Frame',frame)\n",
    "            if cv2.waitKey(1) & 0xFF == ord('q'):\n",
    "                break\n",
    "    finally:\n",
    "        cap.release()\n",
    "        cv2.destroyAllWindows()\n",
    "if __name__ == '__main__':\n",
    "    main()"
   ]
  },
  {
   "cell_type": "code",
   "execution_count": null,
   "id": "96fb218f-de85-4d28-8acb-3ad32ae6fdd8",
   "metadata": {},
   "outputs": [],
   "source": [
    "!pip install pyautogui pynput\n"
   ]
  },
  {
   "cell_type": "code",
   "execution_count": null,
   "id": "a800193e-e555-4667-ad9f-f8feba1a375a",
   "metadata": {},
   "outputs": [],
   "source": []
  }
 ],
 "metadata": {
  "kernelspec": {
   "display_name": "Python 3 (ipykernel)",
   "language": "python",
   "name": "python3"
  },
  "language_info": {
   "codemirror_mode": {
    "name": "ipython",
    "version": 3
   },
   "file_extension": ".py",
   "mimetype": "text/x-python",
   "name": "python",
   "nbconvert_exporter": "python",
   "pygments_lexer": "ipython3",
   "version": "3.10.0"
  }
 },
 "nbformat": 4,
 "nbformat_minor": 5
}
